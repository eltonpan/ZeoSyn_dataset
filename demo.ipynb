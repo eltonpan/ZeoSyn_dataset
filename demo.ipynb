{
 "cells": [
  {
   "cell_type": "markdown",
   "id": "4f951ab4",
   "metadata": {},
   "source": [
    "# Zeolite classifier + SHAP analysis for *ZeoSyn: A Comprehensive Zeolite Synthesis Dataset Enabling Machine-learning Rationalization of Hydrothermal Parameters*\n",
    "\n",
    "Elton Pan,† Soonhyoung Kwon,‡ Zach Jensen,† Mingrou Xie,‡ Rafael Gomez-Bombarelli,† Manuel Moliner,¶ Yuriy Roman,‡ and Elsa Olivetti∗,†\n",
    "\n",
    "† Department of Materials Science and Engineering, Massachusetts Institute of Technology, Cambridge, Massachusetts 02139, United States\n",
    "\n",
    "‡ Department of Chemical Engineering, Massachusetts Institute of Technology, Cambridge, Massachusetts 02139, United States\n",
    "\n",
    "¶ Instituto de Tecnolog ́ıa Qu ́ımica, Universitat Politecnica de Valencia-Consejo Superior de\n",
    "Investigaciones Cient ́ıficas, 46022 Valencia, Spain"
   ]
  },
  {
   "cell_type": "markdown",
   "id": "22a8a226",
   "metadata": {},
   "source": [
    "<p align=\"center\">\n",
    "  <img src=\"figures/TOC.png\" width=\"1000\"/> \n",
    "</p>"
   ]
  },
  {
   "cell_type": "code",
   "execution_count": 1,
   "id": "24306b85",
   "metadata": {},
   "outputs": [],
   "source": [
    "import pandas as pd\n",
    "import matplotlib.pyplot as plt\n",
    "import seaborn as sns\n",
    "from rdkit import Chem\n",
    "import pickle"
   ]
  },
  {
   "cell_type": "markdown",
   "id": "1f6c10d3",
   "metadata": {},
   "source": [
    "# 1) Dataset visualization"
   ]
  },
  {
   "cell_type": "code",
   "execution_count": 2,
   "id": "3ec90aa1",
   "metadata": {},
   "outputs": [
    {
     "data": {
      "text/html": [
       "<div>\n",
       "<style scoped>\n",
       "    .dataframe tbody tr th:only-of-type {\n",
       "        vertical-align: middle;\n",
       "    }\n",
       "\n",
       "    .dataframe tbody tr th {\n",
       "        vertical-align: top;\n",
       "    }\n",
       "\n",
       "    .dataframe thead th {\n",
       "        text-align: right;\n",
       "    }\n",
       "</style>\n",
       "<table border=\"1\" class=\"dataframe\">\n",
       "  <thead>\n",
       "    <tr style=\"text-align: right;\">\n",
       "      <th></th>\n",
       "      <th>Si</th>\n",
       "      <th>Al</th>\n",
       "      <th>P</th>\n",
       "      <th>Na</th>\n",
       "      <th>K</th>\n",
       "      <th>Li</th>\n",
       "      <th>Sr</th>\n",
       "      <th>Rb</th>\n",
       "      <th>Cs</th>\n",
       "      <th>Ba</th>\n",
       "      <th>...</th>\n",
       "      <th>osda1 smiles</th>\n",
       "      <th>osda2 smiles</th>\n",
       "      <th>osda3 smiles</th>\n",
       "      <th>osda1 formula</th>\n",
       "      <th>osda2 formula</th>\n",
       "      <th>osda3 formula</th>\n",
       "      <th>Code1</th>\n",
       "      <th>Code2</th>\n",
       "      <th>Code3</th>\n",
       "      <th>year</th>\n",
       "    </tr>\n",
       "  </thead>\n",
       "  <tbody>\n",
       "    <tr>\n",
       "      <th>0</th>\n",
       "      <td>0.030769</td>\n",
       "      <td>0.000000</td>\n",
       "      <td>0.0</td>\n",
       "      <td>0.0</td>\n",
       "      <td>0.001538</td>\n",
       "      <td>0.000000</td>\n",
       "      <td>0.0</td>\n",
       "      <td>0.0</td>\n",
       "      <td>0.0</td>\n",
       "      <td>0.0</td>\n",
       "      <td>...</td>\n",
       "      <td>C[N+]12CCCC[C@@H]1[C@H]1C[C@@H](C2)[C@@H]2CCCC...</td>\n",
       "      <td>NaN</td>\n",
       "      <td>NaN</td>\n",
       "      <td>C16H29N2</td>\n",
       "      <td>NaN</td>\n",
       "      <td>NaN</td>\n",
       "      <td>AFI</td>\n",
       "      <td>NaN</td>\n",
       "      <td>NaN</td>\n",
       "      <td>2002.0</td>\n",
       "    </tr>\n",
       "    <tr>\n",
       "      <th>1</th>\n",
       "      <td>0.105263</td>\n",
       "      <td>0.000000</td>\n",
       "      <td>0.0</td>\n",
       "      <td>0.0</td>\n",
       "      <td>0.000000</td>\n",
       "      <td>0.000000</td>\n",
       "      <td>0.0</td>\n",
       "      <td>0.0</td>\n",
       "      <td>0.0</td>\n",
       "      <td>0.0</td>\n",
       "      <td>...</td>\n",
       "      <td>C[N+]12CCCC[C@@H]1[C@H]1C[C@@H](C2)[C@@H]2CCCC...</td>\n",
       "      <td>NaN</td>\n",
       "      <td>NaN</td>\n",
       "      <td>C16H29N2</td>\n",
       "      <td>NaN</td>\n",
       "      <td>NaN</td>\n",
       "      <td>AFI</td>\n",
       "      <td>NaN</td>\n",
       "      <td>NaN</td>\n",
       "      <td>2002.0</td>\n",
       "    </tr>\n",
       "    <tr>\n",
       "      <th>2</th>\n",
       "      <td>0.021959</td>\n",
       "      <td>0.000000</td>\n",
       "      <td>0.0</td>\n",
       "      <td>0.0</td>\n",
       "      <td>0.002635</td>\n",
       "      <td>0.000000</td>\n",
       "      <td>0.0</td>\n",
       "      <td>0.0</td>\n",
       "      <td>0.0</td>\n",
       "      <td>0.0</td>\n",
       "      <td>...</td>\n",
       "      <td>C[N+](C)(C)C12CC3CC(CC(C3)C1)C2</td>\n",
       "      <td>NaN</td>\n",
       "      <td>NaN</td>\n",
       "      <td>C13H24N</td>\n",
       "      <td>NaN</td>\n",
       "      <td>NaN</td>\n",
       "      <td>AFI</td>\n",
       "      <td>NaN</td>\n",
       "      <td>NaN</td>\n",
       "      <td>2002.0</td>\n",
       "    </tr>\n",
       "    <tr>\n",
       "      <th>3</th>\n",
       "      <td>0.046512</td>\n",
       "      <td>0.000000</td>\n",
       "      <td>0.0</td>\n",
       "      <td>0.0</td>\n",
       "      <td>0.000000</td>\n",
       "      <td>0.000000</td>\n",
       "      <td>0.0</td>\n",
       "      <td>0.0</td>\n",
       "      <td>0.0</td>\n",
       "      <td>0.0</td>\n",
       "      <td>...</td>\n",
       "      <td>C[N+](C)(C)C12CC3CC(CC(C3)C1)C2</td>\n",
       "      <td>NaN</td>\n",
       "      <td>NaN</td>\n",
       "      <td>C13H24N</td>\n",
       "      <td>NaN</td>\n",
       "      <td>NaN</td>\n",
       "      <td>AFI</td>\n",
       "      <td>NaN</td>\n",
       "      <td>NaN</td>\n",
       "      <td>2002.0</td>\n",
       "    </tr>\n",
       "    <tr>\n",
       "      <th>4</th>\n",
       "      <td>0.021368</td>\n",
       "      <td>0.008547</td>\n",
       "      <td>0.0</td>\n",
       "      <td>0.0</td>\n",
       "      <td>0.000000</td>\n",
       "      <td>0.004274</td>\n",
       "      <td>0.0</td>\n",
       "      <td>0.0</td>\n",
       "      <td>0.0</td>\n",
       "      <td>0.0</td>\n",
       "      <td>...</td>\n",
       "      <td>CC[N+](CC)(CC)CC</td>\n",
       "      <td>C[N+](C)(C)C</td>\n",
       "      <td>NaN</td>\n",
       "      <td>C8H20N</td>\n",
       "      <td>C4H12N</td>\n",
       "      <td>NaN</td>\n",
       "      <td>BPH</td>\n",
       "      <td>NaN</td>\n",
       "      <td>NaN</td>\n",
       "      <td>2003.0</td>\n",
       "    </tr>\n",
       "    <tr>\n",
       "      <th>...</th>\n",
       "      <td>...</td>\n",
       "      <td>...</td>\n",
       "      <td>...</td>\n",
       "      <td>...</td>\n",
       "      <td>...</td>\n",
       "      <td>...</td>\n",
       "      <td>...</td>\n",
       "      <td>...</td>\n",
       "      <td>...</td>\n",
       "      <td>...</td>\n",
       "      <td>...</td>\n",
       "      <td>...</td>\n",
       "      <td>...</td>\n",
       "      <td>...</td>\n",
       "      <td>...</td>\n",
       "      <td>...</td>\n",
       "      <td>...</td>\n",
       "      <td>...</td>\n",
       "      <td>...</td>\n",
       "      <td>...</td>\n",
       "      <td>...</td>\n",
       "    </tr>\n",
       "    <tr>\n",
       "      <th>23956</th>\n",
       "      <td>0.967742</td>\n",
       "      <td>0.032258</td>\n",
       "      <td>0.0</td>\n",
       "      <td>0.0</td>\n",
       "      <td>0.000000</td>\n",
       "      <td>0.000000</td>\n",
       "      <td>0.0</td>\n",
       "      <td>0.0</td>\n",
       "      <td>0.0</td>\n",
       "      <td>0.0</td>\n",
       "      <td>...</td>\n",
       "      <td>CC[N+]1(CC)CC2CC3CC(C2)CC1C3</td>\n",
       "      <td>NaN</td>\n",
       "      <td>NaN</td>\n",
       "      <td>C14H26N</td>\n",
       "      <td>NaN</td>\n",
       "      <td>NaN</td>\n",
       "      <td>CHA</td>\n",
       "      <td>NaN</td>\n",
       "      <td>NaN</td>\n",
       "      <td>2000.0</td>\n",
       "    </tr>\n",
       "    <tr>\n",
       "      <th>23957</th>\n",
       "      <td>0.975610</td>\n",
       "      <td>0.024390</td>\n",
       "      <td>0.0</td>\n",
       "      <td>0.0</td>\n",
       "      <td>0.000000</td>\n",
       "      <td>0.000000</td>\n",
       "      <td>0.0</td>\n",
       "      <td>0.0</td>\n",
       "      <td>0.0</td>\n",
       "      <td>0.0</td>\n",
       "      <td>...</td>\n",
       "      <td>CC[N+]1(CC)CC2CC3CC(C2)CC1C3</td>\n",
       "      <td>NaN</td>\n",
       "      <td>NaN</td>\n",
       "      <td>C14H26N</td>\n",
       "      <td>NaN</td>\n",
       "      <td>NaN</td>\n",
       "      <td>CHA</td>\n",
       "      <td>NaN</td>\n",
       "      <td>NaN</td>\n",
       "      <td>2000.0</td>\n",
       "    </tr>\n",
       "    <tr>\n",
       "      <th>23958</th>\n",
       "      <td>0.985915</td>\n",
       "      <td>0.014085</td>\n",
       "      <td>0.0</td>\n",
       "      <td>0.0</td>\n",
       "      <td>0.000000</td>\n",
       "      <td>0.000000</td>\n",
       "      <td>0.0</td>\n",
       "      <td>0.0</td>\n",
       "      <td>0.0</td>\n",
       "      <td>0.0</td>\n",
       "      <td>...</td>\n",
       "      <td>CC[N+]1(CC)CC2CC3CC(C2)CC1C3</td>\n",
       "      <td>NaN</td>\n",
       "      <td>NaN</td>\n",
       "      <td>C14H26N</td>\n",
       "      <td>NaN</td>\n",
       "      <td>NaN</td>\n",
       "      <td>AFI</td>\n",
       "      <td>NaN</td>\n",
       "      <td>NaN</td>\n",
       "      <td>2000.0</td>\n",
       "    </tr>\n",
       "    <tr>\n",
       "      <th>23959</th>\n",
       "      <td>0.990099</td>\n",
       "      <td>0.009901</td>\n",
       "      <td>0.0</td>\n",
       "      <td>0.0</td>\n",
       "      <td>0.000000</td>\n",
       "      <td>0.000000</td>\n",
       "      <td>0.0</td>\n",
       "      <td>0.0</td>\n",
       "      <td>0.0</td>\n",
       "      <td>0.0</td>\n",
       "      <td>...</td>\n",
       "      <td>CC[N+]1(CC)CC2CC3CC(C2)CC1C3</td>\n",
       "      <td>NaN</td>\n",
       "      <td>NaN</td>\n",
       "      <td>C14H26N</td>\n",
       "      <td>NaN</td>\n",
       "      <td>NaN</td>\n",
       "      <td>AFI</td>\n",
       "      <td>NaN</td>\n",
       "      <td>NaN</td>\n",
       "      <td>2000.0</td>\n",
       "    </tr>\n",
       "    <tr>\n",
       "      <th>23960</th>\n",
       "      <td>0.996678</td>\n",
       "      <td>0.003322</td>\n",
       "      <td>0.0</td>\n",
       "      <td>0.0</td>\n",
       "      <td>0.000000</td>\n",
       "      <td>0.000000</td>\n",
       "      <td>0.0</td>\n",
       "      <td>0.0</td>\n",
       "      <td>0.0</td>\n",
       "      <td>0.0</td>\n",
       "      <td>...</td>\n",
       "      <td>CC[N+]1(CC)CC2CC3CC(C2)CC1C3</td>\n",
       "      <td>NaN</td>\n",
       "      <td>NaN</td>\n",
       "      <td>C14H26N</td>\n",
       "      <td>NaN</td>\n",
       "      <td>NaN</td>\n",
       "      <td>AFI</td>\n",
       "      <td>NaN</td>\n",
       "      <td>NaN</td>\n",
       "      <td>2000.0</td>\n",
       "    </tr>\n",
       "  </tbody>\n",
       "</table>\n",
       "<p>23961 rows × 99 columns</p>\n",
       "</div>"
      ],
      "text/plain": [
       "             Si        Al    P   Na         K        Li   Sr   Rb   Cs   Ba  \\\n",
       "0      0.030769  0.000000  0.0  0.0  0.001538  0.000000  0.0  0.0  0.0  0.0   \n",
       "1      0.105263  0.000000  0.0  0.0  0.000000  0.000000  0.0  0.0  0.0  0.0   \n",
       "2      0.021959  0.000000  0.0  0.0  0.002635  0.000000  0.0  0.0  0.0  0.0   \n",
       "3      0.046512  0.000000  0.0  0.0  0.000000  0.000000  0.0  0.0  0.0  0.0   \n",
       "4      0.021368  0.008547  0.0  0.0  0.000000  0.004274  0.0  0.0  0.0  0.0   \n",
       "...         ...       ...  ...  ...       ...       ...  ...  ...  ...  ...   \n",
       "23956  0.967742  0.032258  0.0  0.0  0.000000  0.000000  0.0  0.0  0.0  0.0   \n",
       "23957  0.975610  0.024390  0.0  0.0  0.000000  0.000000  0.0  0.0  0.0  0.0   \n",
       "23958  0.985915  0.014085  0.0  0.0  0.000000  0.000000  0.0  0.0  0.0  0.0   \n",
       "23959  0.990099  0.009901  0.0  0.0  0.000000  0.000000  0.0  0.0  0.0  0.0   \n",
       "23960  0.996678  0.003322  0.0  0.0  0.000000  0.000000  0.0  0.0  0.0  0.0   \n",
       "\n",
       "       ...                                       osda1 smiles  osda2 smiles  \\\n",
       "0      ...  C[N+]12CCCC[C@@H]1[C@H]1C[C@@H](C2)[C@@H]2CCCC...           NaN   \n",
       "1      ...  C[N+]12CCCC[C@@H]1[C@H]1C[C@@H](C2)[C@@H]2CCCC...           NaN   \n",
       "2      ...                    C[N+](C)(C)C12CC3CC(CC(C3)C1)C2           NaN   \n",
       "3      ...                    C[N+](C)(C)C12CC3CC(CC(C3)C1)C2           NaN   \n",
       "4      ...                                   CC[N+](CC)(CC)CC  C[N+](C)(C)C   \n",
       "...    ...                                                ...           ...   \n",
       "23956  ...                       CC[N+]1(CC)CC2CC3CC(C2)CC1C3           NaN   \n",
       "23957  ...                       CC[N+]1(CC)CC2CC3CC(C2)CC1C3           NaN   \n",
       "23958  ...                       CC[N+]1(CC)CC2CC3CC(C2)CC1C3           NaN   \n",
       "23959  ...                       CC[N+]1(CC)CC2CC3CC(C2)CC1C3           NaN   \n",
       "23960  ...                       CC[N+]1(CC)CC2CC3CC(C2)CC1C3           NaN   \n",
       "\n",
       "       osda3 smiles  osda1 formula  osda2 formula  osda3 formula  Code1  \\\n",
       "0               NaN       C16H29N2            NaN            NaN    AFI   \n",
       "1               NaN       C16H29N2            NaN            NaN    AFI   \n",
       "2               NaN        C13H24N            NaN            NaN    AFI   \n",
       "3               NaN        C13H24N            NaN            NaN    AFI   \n",
       "4               NaN         C8H20N         C4H12N            NaN    BPH   \n",
       "...             ...            ...            ...            ...    ...   \n",
       "23956           NaN        C14H26N            NaN            NaN    CHA   \n",
       "23957           NaN        C14H26N            NaN            NaN    CHA   \n",
       "23958           NaN        C14H26N            NaN            NaN    AFI   \n",
       "23959           NaN        C14H26N            NaN            NaN    AFI   \n",
       "23960           NaN        C14H26N            NaN            NaN    AFI   \n",
       "\n",
       "       Code2  Code3    year  \n",
       "0        NaN    NaN  2002.0  \n",
       "1        NaN    NaN  2002.0  \n",
       "2        NaN    NaN  2002.0  \n",
       "3        NaN    NaN  2002.0  \n",
       "4        NaN    NaN  2003.0  \n",
       "...      ...    ...     ...  \n",
       "23956    NaN    NaN  2000.0  \n",
       "23957    NaN    NaN  2000.0  \n",
       "23958    NaN    NaN  2000.0  \n",
       "23959    NaN    NaN  2000.0  \n",
       "23960    NaN    NaN  2000.0  \n",
       "\n",
       "[23961 rows x 99 columns]"
      ]
     },
     "execution_count": 2,
     "metadata": {},
     "output_type": "execute_result"
    }
   ],
   "source": [
    "# Load ZeoSyn dataset\n",
    "df = pd.read_excel('dataset/ZEOSYN.xlsx').drop(columns = 'Unnamed: 0')\n",
    "df = df[~df['Si'].isna()].reset_index().drop(columns = 'index') # Remove empty rows\n",
    "df"
   ]
  },
  {
   "cell_type": "markdown",
   "id": "2cc99e91",
   "metadata": {},
   "source": [
    "## Get compositions\n",
    "Here, we visualize the distributions of Si/Al and Al/P ratios"
   ]
  },
  {
   "cell_type": "code",
   "execution_count": 3,
   "id": "099535f8",
   "metadata": {},
   "outputs": [
    {
     "data": {
      "image/png": "[encoded data removed]",
      "text/plain": [
       "<Figure size 504x504 with 1 Axes>"
      ]
     },
     "metadata": {
      "needs_background": "light"
     },
     "output_type": "display_data"
    }
   ],
   "source": [
    "# Visualize distribution of Si/Al ratio\n",
    "xlim = (0,100)\n",
    "plt.figure(figsize=(7,7))\n",
    "sns.histplot(df['Si']/df['Al'], bins=30, binrange=xlim, kde=True)\n",
    "plt.xlabel('Si/Al ratio',fontsize=20)\n",
    "plt.ylabel('Num. synthesis routes',fontsize=20)\n",
    "plt.xticks(fontsize=14)\n",
    "plt.yticks(fontsize=14)\n",
    "plt.xlim(*xlim)\n",
    "plt.show()"
   ]
  },
  {
   "cell_type": "code",
   "execution_count": 4,
   "id": "649d48de",
   "metadata": {},
   "outputs": [
    {
     "data": {
      "image/png": "[encoded data removed]",
      "text/plain": [
       "<Figure size 504x504 with 1 Axes>"
      ]
     },
     "metadata": {
      "needs_background": "light"
     },
     "output_type": "display_data"
    }
   ],
   "source": [
    "# Visualize distribution of crystallization temperature\n",
    "xlim = (50,220)\n",
    "plt.figure(figsize=(7,7))\n",
    "sns.histplot(df['cryst_temp'], bins=30, binrange=xlim, kde=True)\n",
    "plt.xlabel('Crystallization temperature ($^\\circ$C)',fontsize=20)\n",
    "plt.ylabel('Num. synthesis routes',fontsize=20)\n",
    "plt.xticks(fontsize=14)\n",
    "plt.yticks(fontsize=14)\n",
    "plt.xlim(*xlim)\n",
    "plt.show()"
   ]
  },
  {
   "cell_type": "markdown",
   "id": "6b6b51af",
   "metadata": {},
   "source": [
    "## Organic structure-directing agents (OSDAs)"
   ]
  },
  {
   "cell_type": "code",
   "execution_count": 5,
   "id": "291a56df",
   "metadata": {},
   "outputs": [
    {
     "data": {
      "text/plain": [
       "CC[N+](CC)(CC)CC                            1866\n",
       "CCC[N+](CCC)(CCC)CCC                        1457\n",
       "C[N+](C)(C)CCCCCC[N+](C)(C)C.[OH-].[OH-]     648\n",
       "C[N+](C)(C)C                                 618\n",
       "C1CCCNCC1                                    546\n",
       "                                            ... \n",
       "Oc1cccc(O)c1                                   1\n",
       "C1OCOCO1                                       1\n",
       "OCCO                                           1\n",
       "CC[N+]1(CC)C(C)CC[C@@H]2CCCCC21                1\n",
       "C1CCCC(C2CCCC2)(N2CCCCCCN2)CCC1                1\n",
       "Name: osda1 smiles, Length: 879, dtype: int64"
      ]
     },
     "execution_count": 5,
     "metadata": {},
     "output_type": "execute_result"
    }
   ],
   "source": [
    "# OSDA smiles\n",
    "df['osda1 smiles'].value_counts()"
   ]
  },
  {
   "cell_type": "markdown",
   "id": "441c97c9",
   "metadata": {},
   "source": [
    "Here we look at some of the most frequent OSDAs in the dataset"
   ]
  },
  {
   "cell_type": "code",
   "execution_count": 12,
   "id": "07cb85b8",
   "metadata": {},
   "outputs": [
    {
     "data": {
      "image/png": "[encoded data removed]",
      "text/plain": [
       "<Figure size 1440x360 with 1 Axes>"
      ]
     },
     "metadata": {
      "needs_background": "light"
     },
     "output_type": "display_data"
    }
   ],
   "source": [
    "osdas = [Chem.MolFromSmiles(x) for x in df['osda1 smiles'].value_counts().keys()[:10]] # x is SMILES string of OSDA\n",
    "plt.figure(figsize=(20,5))\n",
    "plt.imshow(Chem.Draw.MolsToImage(osdas))\n",
    "plt.axis('off')\n",
    "plt.show()"
   ]
  },
  {
   "cell_type": "markdown",
   "id": "db34387d",
   "metadata": {},
   "source": [
    "We can take one step further and visualize the top 50 OSDAs in the following dendrogram, clustered using hierarchical clustering of their Morgan fingerprints. One can observe the different types of OSDAs, such as cyclic, spiro, linear etc. The code to generate this dendrogram can be found in `visualization.ipynb`.\n",
    "\n",
    "Interestingly, we observe a significant correlation between OSDA size (orange) and zeolite pore size (purple)."
   ]
  },
  {
   "cell_type": "markdown",
   "id": "865e58da",
   "metadata": {},
   "source": [
    "<p align=\"center\">\n",
    "  <img src=\"figures/osdas_top50.png\" width=\"1000\"/> \n",
    "</p>"
   ]
  },
  {
   "cell_type": "markdown",
   "id": "f44f7d86",
   "metadata": {},
   "source": [
    "## Precursors\n",
    "Precursors (eg. Si source, Al source, Na source) are also included in the dataset"
   ]
  },
  {
   "cell_type": "code",
   "execution_count": 7,
   "id": "67b4defc",
   "metadata": {},
   "outputs": [
    {
     "data": {
      "text/plain": [
       "0                                  KOH, Aerosil 200\n",
       "1                       tetraethylorthosilicate, HF\n",
       "2                                  KOH, Aerosil 200\n",
       "3                                                HF\n",
       "4        aluminum hydroxide, colloidal silica, LiCl\n",
       "                            ...                    \n",
       "23956                NaOH, Banco N silicate, LZY-62\n",
       "23957                      NaOH, Cabosil M5, LZY-52\n",
       "23958                      NaOH, Cabosil M5, LZY-52\n",
       "23959               NaOH, Reheis F-2000, Cabosil M5\n",
       "23960                           NaOH, Tosoh 390 HUA\n",
       "Name: precursors, Length: 23961, dtype: object"
      ]
     },
     "execution_count": 7,
     "metadata": {},
     "output_type": "execute_result"
    }
   ],
   "source": [
    "# Precursors\n",
    "df['precursors']"
   ]
  },
  {
   "cell_type": "markdown",
   "id": "2279921f",
   "metadata": {},
   "source": [
    "## Zeolite products\n",
    "\n",
    "Zeolite products are provided in terms of their 3-letter IZA code (eg. 'AFI', 'CHA')"
   ]
  },
  {
   "cell_type": "code",
   "execution_count": 8,
   "id": "c38c4c17",
   "metadata": {},
   "outputs": [
    {
     "data": {
      "text/html": [
       "<div>\n",
       "<style scoped>\n",
       "    .dataframe tbody tr th:only-of-type {\n",
       "        vertical-align: middle;\n",
       "    }\n",
       "\n",
       "    .dataframe tbody tr th {\n",
       "        vertical-align: top;\n",
       "    }\n",
       "\n",
       "    .dataframe thead th {\n",
       "        text-align: right;\n",
       "    }\n",
       "</style>\n",
       "<table border=\"1\" class=\"dataframe\">\n",
       "  <thead>\n",
       "    <tr style=\"text-align: right;\">\n",
       "      <th></th>\n",
       "      <th>Code1</th>\n",
       "      <th>Code2</th>\n",
       "      <th>Code3</th>\n",
       "    </tr>\n",
       "  </thead>\n",
       "  <tbody>\n",
       "    <tr>\n",
       "      <th>0</th>\n",
       "      <td>AFI</td>\n",
       "      <td>NaN</td>\n",
       "      <td>NaN</td>\n",
       "    </tr>\n",
       "    <tr>\n",
       "      <th>1</th>\n",
       "      <td>AFI</td>\n",
       "      <td>NaN</td>\n",
       "      <td>NaN</td>\n",
       "    </tr>\n",
       "    <tr>\n",
       "      <th>2</th>\n",
       "      <td>AFI</td>\n",
       "      <td>NaN</td>\n",
       "      <td>NaN</td>\n",
       "    </tr>\n",
       "    <tr>\n",
       "      <th>3</th>\n",
       "      <td>AFI</td>\n",
       "      <td>NaN</td>\n",
       "      <td>NaN</td>\n",
       "    </tr>\n",
       "    <tr>\n",
       "      <th>4</th>\n",
       "      <td>BPH</td>\n",
       "      <td>NaN</td>\n",
       "      <td>NaN</td>\n",
       "    </tr>\n",
       "    <tr>\n",
       "      <th>...</th>\n",
       "      <td>...</td>\n",
       "      <td>...</td>\n",
       "      <td>...</td>\n",
       "    </tr>\n",
       "    <tr>\n",
       "      <th>23956</th>\n",
       "      <td>CHA</td>\n",
       "      <td>NaN</td>\n",
       "      <td>NaN</td>\n",
       "    </tr>\n",
       "    <tr>\n",
       "      <th>23957</th>\n",
       "      <td>CHA</td>\n",
       "      <td>NaN</td>\n",
       "      <td>NaN</td>\n",
       "    </tr>\n",
       "    <tr>\n",
       "      <th>23958</th>\n",
       "      <td>AFI</td>\n",
       "      <td>NaN</td>\n",
       "      <td>NaN</td>\n",
       "    </tr>\n",
       "    <tr>\n",
       "      <th>23959</th>\n",
       "      <td>AFI</td>\n",
       "      <td>NaN</td>\n",
       "      <td>NaN</td>\n",
       "    </tr>\n",
       "    <tr>\n",
       "      <th>23960</th>\n",
       "      <td>AFI</td>\n",
       "      <td>NaN</td>\n",
       "      <td>NaN</td>\n",
       "    </tr>\n",
       "  </tbody>\n",
       "</table>\n",
       "<p>23961 rows × 3 columns</p>\n",
       "</div>"
      ],
      "text/plain": [
       "      Code1 Code2 Code3\n",
       "0       AFI   NaN   NaN\n",
       "1       AFI   NaN   NaN\n",
       "2       AFI   NaN   NaN\n",
       "3       AFI   NaN   NaN\n",
       "4       BPH   NaN   NaN\n",
       "...     ...   ...   ...\n",
       "23956   CHA   NaN   NaN\n",
       "23957   CHA   NaN   NaN\n",
       "23958   AFI   NaN   NaN\n",
       "23959   AFI   NaN   NaN\n",
       "23960   AFI   NaN   NaN\n",
       "\n",
       "[23961 rows x 3 columns]"
      ]
     },
     "execution_count": 8,
     "metadata": {},
     "output_type": "execute_result"
    }
   ],
   "source": [
    "# Framework products \n",
    "df[['Code1', 'Code2', 'Code3']]"
   ]
  },
  {
   "cell_type": "markdown",
   "id": "9e9212ae",
   "metadata": {},
   "source": [
    "# 2) Zeolite framework-level SHAP\n",
    "Framework-level SHAP analysis revealing the top 10 (out of 43) most important synthesis parameters favoring the formation of specific frameworks."
   ]
  },
  {
   "cell_type": "code",
   "execution_count": 9,
   "id": "23388ee3",
   "metadata": {},
   "outputs": [],
   "source": [
    "# Load pre-computed SHAP values\n",
    "with open('shap/shap_values.pkl', 'rb') as handle:\n",
    "    shap_values = pickle.load(handle)"
   ]
  },
  {
   "cell_type": "code",
   "execution_count": 10,
   "id": "a77514db",
   "metadata": {},
   "outputs": [
    {
     "ename": "NameError",
     "evalue": "name 'X_test' is not defined",
     "output_type": "error",
     "traceback": [
      "\u001b[0;31m---------------------------------------------------------------------------\u001b[0m",
      "\u001b[0;31mNameError\u001b[0m                                 Traceback (most recent call last)",
      "\u001b[0;32m/tmp/ipykernel_1092375/371350552.py\u001b[0m in \u001b[0;36m<module>\u001b[0;34m\u001b[0m\n\u001b[1;32m      2\u001b[0m \u001b[0mshap_cols\u001b[0m     \u001b[0;34m=\u001b[0m \u001b[0;34m[\u001b[0m\u001b[0;34m]\u001b[0m \u001b[0;31m# columns to remain\u001b[0m\u001b[0;34m\u001b[0m\u001b[0;34m\u001b[0m\u001b[0m\n\u001b[1;32m      3\u001b[0m \u001b[0mshap_col_idxs\u001b[0m \u001b[0;34m=\u001b[0m \u001b[0;34m[\u001b[0m\u001b[0;34m]\u001b[0m \u001b[0;31m# their indices\u001b[0m\u001b[0;34m\u001b[0m\u001b[0;34m\u001b[0m\u001b[0m\n\u001b[0;32m----> 4\u001b[0;31m \u001b[0;32mfor\u001b[0m \u001b[0mcol_idx\u001b[0m\u001b[0;34m,\u001b[0m \u001b[0mcol\u001b[0m \u001b[0;32min\u001b[0m \u001b[0menumerate\u001b[0m\u001b[0;34m(\u001b[0m\u001b[0mX_test\u001b[0m\u001b[0;34m.\u001b[0m\u001b[0mcolumns\u001b[0m\u001b[0;34m)\u001b[0m\u001b[0;34m:\u001b[0m\u001b[0;34m\u001b[0m\u001b[0;34m\u001b[0m\u001b[0m\n\u001b[0m\u001b[1;32m      5\u001b[0m         \u001b[0mshap_cols\u001b[0m\u001b[0;34m.\u001b[0m\u001b[0mappend\u001b[0m\u001b[0;34m(\u001b[0m\u001b[0mcol\u001b[0m\u001b[0;34m)\u001b[0m\u001b[0;34m\u001b[0m\u001b[0;34m\u001b[0m\u001b[0m\n\u001b[1;32m      6\u001b[0m         \u001b[0mshap_col_idxs\u001b[0m\u001b[0;34m.\u001b[0m\u001b[0mappend\u001b[0m\u001b[0;34m(\u001b[0m\u001b[0mcol_idx\u001b[0m\u001b[0;34m)\u001b[0m\u001b[0;34m\u001b[0m\u001b[0;34m\u001b[0m\u001b[0m\n",
      "\u001b[0;31mNameError\u001b[0m: name 'X_test' is not defined"
     ]
    }
   ],
   "source": [
    "# Mask out non-relevant features\n",
    "shap_cols     = [] # columns to remain\n",
    "shap_col_idxs = [] # their indices\n",
    "for col_idx, col in enumerate(X_test.columns):\n",
    "        shap_cols.append(col)\n",
    "        shap_col_idxs.append(col_idx)\n",
    "\n",
    "shap_values_masked = [x[:,shap_col_idxs] for x in shap_values]\n",
    "X_test_masked      = X_test[shap_cols]\n",
    "X_test_masked.columns = X_cols.values()\n",
    "shap_values_masked[0].shape, X_test_masked.shape"
   ]
  },
  {
   "cell_type": "markdown",
   "id": "6c670653",
   "metadata": {},
   "source": [
    "Each framework belongs to 1 out of 3 types of synthesis based on its top synthesis parameters: 1) Gel-dominated synthesis (CAN, KFI) where most top parameters are inorganic-related, 2) OSDA-dominated synthesis (ISV, ITE) where most top parameters are OSDA-related, and 3) balanced syn- thesis (IWW, RUT) where even attribution is given to inorganic and OSDA parameters. Every point is an individual synthesis colored by the value of synthesis parameter (orange and blue colors indicate high and low values, respectively)."
   ]
  },
  {
   "cell_type": "markdown",
   "id": "fed0c122",
   "metadata": {},
   "source": [
    "<p align=\"center\">\n",
    "  <img src=\"figures/framework_shap.png\" width=\"1200\"/> \n",
    "</p>"
   ]
  },
  {
   "cell_type": "markdown",
   "id": "357f2aee",
   "metadata": {},
   "source": [
    "# 3) Zeolite CBU-level SHAP\n",
    "CBU-level SHAP analysis of large CBUs showing OSDA parameters favoring their formation."
   ]
  },
  {
   "cell_type": "markdown",
   "id": "fe683c96",
   "metadata": {},
   "source": [
    "## Small CBUs\n",
    "We uncover the most important inorganic parameters driving the formation of a selection of 4 small CBUs in the figure below. As shown, the synthesis of small CBUs shown are all inorganic/gel-dominated instead of OSDA-dominated with the top 5 parameters relating to the inorganic components."
   ]
  },
  {
   "cell_type": "markdown",
   "id": "5568845f",
   "metadata": {},
   "source": [
    "<p align=\"center\">\n",
    "  <img src=\"figures/small_cbu_shap.png\" width=\"1000\"/> \n",
    "</p>"
   ]
  },
  {
   "cell_type": "markdown",
   "id": "45297f22",
   "metadata": {},
   "source": [
    "## Large CBUs\n",
    "In contrast to small CBUs, the formation of large CBUs are influenced by OSDA parameters due to the need for a structure-directing effect by OSDAs. The figure below shows a series of large CBUs (≥ 30 T sites) with an increasing aspect ratio (*pau* < *los* < *ave* < *aft*). \n",
    "\n",
    "Interestingly, in the first row, CBU-level SHAP discovers a clear relationship between aspect ratio of the CBU and OSDA asphericity (a measure of the deviation from sphere). For *pau*, low OSDA asphericity (dark blue on positive side) gives rise to positive SHAP values, indicating the need for a spherical OSDA. Indeed, this is due to the symmetrical shape of the pau cage. The inverse is true for *aft*."
   ]
  },
  {
   "cell_type": "markdown",
   "id": "a8b8ce65",
   "metadata": {},
   "source": [
    "<p align=\"center\">\n",
    "  <img src=\"figures/large_cbu_shap.png\" width=\"1600\"/> \n",
    "</p>"
   ]
  }
 ],
 "metadata": {
  "kernelspec": {
   "display_name": "zeo_classification",
   "language": "python",
   "name": "python3"
  },
  "language_info": {
   "codemirror_mode": {
    "name": "ipython",
    "version": 3
   },
   "file_extension": ".py",
   "mimetype": "text/x-python",
   "name": "python",
   "nbconvert_exporter": "python",
   "pygments_lexer": "ipython3",
   "version": "3.7.10"
  }
 },
 "nbformat": 4,
 "nbformat_minor": 5
}
